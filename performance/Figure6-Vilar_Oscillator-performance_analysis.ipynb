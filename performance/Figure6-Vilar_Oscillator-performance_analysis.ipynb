{
 "cells": [
  {
   "cell_type": "markdown",
   "metadata": {},
   "source": [
    "# Vilar Oscillator\n",
    "***\n",
    "**From:** Vilar, José M. G. et al. “Mechanisms of noise-resistance in genetic oscillators.” PNAS, vol. 99 no. 9, 2002, pp. 5988-5992., doi.org/10.1073/pnas.092133899.\n",
    "***\n",
    "## Setup the Environment\n",
    "***"
   ]
  },
  {
   "cell_type": "code",
   "execution_count": 1,
   "metadata": {},
   "outputs": [],
   "source": [
    "import os\n",
    "import sys\n",
    "sys.path.insert(1, os.path.abspath(os.path.join(os.getcwd(), '../../GillesPy2/')))"
   ]
  },
  {
   "cell_type": "code",
   "execution_count": 2,
   "metadata": {},
   "outputs": [],
   "source": [
    "import numpy"
   ]
  },
  {
   "cell_type": "code",
   "execution_count": 3,
   "metadata": {},
   "outputs": [],
   "source": [
    "import gillespy2\n",
    "import time\n",
    "import datetime"
   ]
  },
  {
   "cell_type": "code",
   "execution_count": 4,
   "metadata": {},
   "outputs": [],
   "source": [
    "from matplotlib import pyplot as plt"
   ]
  },
  {
   "cell_type": "markdown",
   "metadata": {},
   "source": [
    "***\n",
    "## Create the Vilar Oscillator Model\n",
    "***\n",
    "Model must include rates, species, and reactions"
   ]
  },
  {
   "cell_type": "code",
   "execution_count": 5,
   "metadata": {},
   "outputs": [],
   "source": [
    "def create_vilar_oscillator(parameter_values=None):\n",
    "    # Initialize Model\n",
    "    model = gillespy2.Model(name=\"VilarOscillator\")\n",
    "    \n",
    "    # Set System Volume\n",
    "    model.volume = 1\n",
    "\n",
    "    # Define Variables (GillesPy2.Species)\n",
    "    Da = gillespy2.Species(name=\"Da\", initial_value=1, mode=\"discrete\")\n",
    "    Da_prime = gillespy2.Species(name=\"Da_prime\", initial_value=0, mode=\"discrete\")\n",
    "    Ma = gillespy2.Species(name=\"Ma\", initial_value=0, mode=\"discrete\")\n",
    "    Dr = gillespy2.Species(name=\"Dr\", initial_value=1, mode=\"discrete\")\n",
    "    Dr_prime = gillespy2.Species(name=\"Dr_prime\", initial_value=0, mode=\"discrete\")\n",
    "    Mr = gillespy2.Species(name=\"Mr\", initial_value=0, mode=\"discrete\")\n",
    "    C = gillespy2.Species(name=\"C\", initial_value=0, mode=\"discrete\")\n",
    "    A = gillespy2.Species(name=\"A\", initial_value=0, mode=\"discrete\")\n",
    "    R = gillespy2.Species(name=\"R\", initial_value=0, mode=\"discrete\")\n",
    "\n",
    "    # Add Variables to Model\n",
    "    model.add_species([Da, Da_prime, Ma, Dr, Dr_prime, Mr, C, A, R])\n",
    "\n",
    "    # Define Parameters\n",
    "    alphaA = gillespy2.Parameter(name=\"alphaA\", expression=50)\n",
    "    alphaA_prime = gillespy2.Parameter(name=\"alphaA_prime\", expression=500)\n",
    "    alphaR = gillespy2.Parameter(name=\"alphaR\", expression=0.01)\n",
    "    alphaR_prime = gillespy2.Parameter(name=\"alphaR_prime\", expression=50)\n",
    "    betaA = gillespy2.Parameter(name=\"betaA\", expression=50)\n",
    "    betaR = gillespy2.Parameter(name=\"betaR\", expression=5)\n",
    "    deltaMA = gillespy2.Parameter(name=\"deltaMA\", expression=10)\n",
    "    deltaMR = gillespy2.Parameter(name=\"deltaMR\", expression=0.5)\n",
    "    deltaA = gillespy2.Parameter(name=\"deltaA\", expression=1)\n",
    "    deltaR = gillespy2.Parameter(name=\"deltaR\", expression=0.2)\n",
    "    gammaA = gillespy2.Parameter(name=\"gammaA\", expression=1)\n",
    "    gammaR = gillespy2.Parameter(name=\"gammaR\", expression=1)\n",
    "    gammaC = gillespy2.Parameter(name=\"gammaC\", expression=2)\n",
    "    thetaA = gillespy2.Parameter(name=\"thetaA\", expression=50)\n",
    "    thetaR = gillespy2.Parameter(name=\"thetaR\", expression=100)\n",
    "\n",
    "    # Add Parameters to Model\n",
    "    model.add_parameter([\n",
    "        alphaA, alphaA_prime, alphaR, alphaR_prime, betaA, betaR, deltaMA,\n",
    "        deltaMR, deltaA, deltaR, gammaA, gammaR, gammaC, thetaA, thetaR\n",
    "    ])\n",
    "\n",
    "    # Define Reactions\n",
    "    r1 = gillespy2.Reaction(name=\"r1\", reactants={'A': 1, 'R': 1}, products={'C': 1}, rate=\"gammaC\")\n",
    "    r2 = gillespy2.Reaction(name=\"r2\", reactants={'A': 1}, products={}, rate=\"deltaA\")\n",
    "    r3 = gillespy2.Reaction(name=\"r3\", reactants={'C': 1}, products={'R': 1}, rate=\"deltaA\")\n",
    "    r4 = gillespy2.Reaction(name=\"r4\", reactants={'R': 1}, products={}, rate=\"deltaR\")\n",
    "    r5 = gillespy2.Reaction(name=\"r5\", reactants={'A': 1, 'Da': 1}, products={'Da_prime': 1}, rate=\"gammaA\")\n",
    "    r6 = gillespy2.Reaction(name=\"r6\", reactants={'Da_prime': 1}, products={'A': 1, 'Da': 1}, rate=\"thetaA\")\n",
    "    r7 = gillespy2.Reaction(name=\"r7\", reactants={'Da': 1}, products={'Da': 1, 'Ma': 1}, rate=\"alphaA\")\n",
    "    r8 = gillespy2.Reaction(\n",
    "        name=\"r8\", reactants={'Da_prime': 1}, products={'Da_prime': 1, 'Ma': 1}, rate=\"alphaA_prime\"\n",
    "    )\n",
    "    r9 = gillespy2.Reaction(name=\"r9\", reactants={'Ma': 1}, products={}, rate=\"deltaMA\")\n",
    "    r10 = gillespy2.Reaction(name=\"r10\", reactants={'Ma': 1}, products={'A': 1, 'Ma': 1}, rate=\"betaA\")\n",
    "    r11 = gillespy2.Reaction(name=\"r11\", reactants={'A': 1, 'Dr': 1}, products={'Dr_prime': 1}, rate=\"gammaR\")\n",
    "    r12 = gillespy2.Reaction(name=\"r12\", reactants={'Dr_prime': 1}, products={'A': 1, 'Dr': 1}, rate=\"thetaR\")\n",
    "    r13 = gillespy2.Reaction(name=\"r13\", reactants={'Dr': 1}, products={'Dr': 1, 'Mr': 1}, rate=\"alphaR\")\n",
    "    r14 = gillespy2.Reaction(\n",
    "        name=\"r14\", reactants={'Dr_prime': 1}, products={'Dr_prime': 1, 'Mr': 1}, rate=\"alphaR_prime\"\n",
    "    )\n",
    "    r15 = gillespy2.Reaction(name=\"r15\", reactants={'Mr': 1}, products={}, rate=\"deltaMR\")\n",
    "    r16 = gillespy2.Reaction(name=\"r16\", reactants={'Mr': 1}, products={'Mr': 1, 'R': 1}, rate=\"betaR\")\n",
    "\n",
    "    # Add Reactions to Model\n",
    "    model.add_reaction([r1, r2, r3, r4, r5, r6, r7, r8, r9, r10, r11, r12, r13, r14, r15, r16])\n",
    "\n",
    "    # Define Timespan\n",
    "    tspan = gillespy2.TimeSpan.linspace(t=200, num_points=201)\n",
    "    \n",
    "    # Set Model Timespan\n",
    "    model.timespan(tspan)\n",
    "    return model"
   ]
  },
  {
   "cell_type": "markdown",
   "metadata": {},
   "source": [
    "### Instantiate the Model"
   ]
  },
  {
   "cell_type": "code",
   "execution_count": 6,
   "metadata": {},
   "outputs": [
    {
     "name": "stdout",
     "output_type": "stream",
     "text": [
      "CPU times: user 3.47 ms, sys: 0 ns, total: 3.47 ms\n",
      "Wall time: 3.47 ms\n"
     ]
    }
   ],
   "source": [
    "%time model = create_vilar_oscillator()"
   ]
  },
  {
   "cell_type": "markdown",
   "metadata": {},
   "source": [
    "***\n",
    "## Run the Simulations\n",
    "***\n",
    "Run the model by calling the run function on the model and select algorithm via 'algorithm' keyword argument.\n",
    "### ODE Simulation"
   ]
  },
  {
   "cell_type": "code",
   "execution_count": 7,
   "metadata": {
    "pycharm": {
     "is_executing": true
    }
   },
   "outputs": [],
   "source": [
    "#%time ode_results = model.run(algorithm=\"ODE\")"
   ]
  },
  {
   "cell_type": "markdown",
   "metadata": {},
   "source": [
    "### SSA Simulation"
   ]
  },
  {
   "cell_type": "code",
   "execution_count": 8,
   "metadata": {
    "pycharm": {
     "is_executing": true
    }
   },
   "outputs": [],
   "source": [
    "#%time ssa_results = model.run(algorithm=\"SSA\")"
   ]
  },
  {
   "cell_type": "markdown",
   "metadata": {},
   "source": [
    "### Tau Leaping Simulation"
   ]
  },
  {
   "cell_type": "code",
   "execution_count": 9,
   "metadata": {
    "pycharm": {
     "is_executing": true
    }
   },
   "outputs": [],
   "source": [
    "#%time tau_results = model.run(algorithm=\"Tau-Leaping\")"
   ]
  },
  {
   "cell_type": "markdown",
   "metadata": {},
   "source": [
    "### Tau Hybrid Simulation"
   ]
  },
  {
   "cell_type": "code",
   "execution_count": 10,
   "metadata": {
    "pycharm": {
     "is_executing": true
    }
   },
   "outputs": [],
   "source": [
    "#%time hybrid_results = model.run(algorithm=\"Tau-Hybrid\")"
   ]
  },
  {
   "cell_type": "markdown",
   "metadata": {},
   "source": [
    "***\n",
    "## Visualizations\n",
    "***"
   ]
  },
  {
   "cell_type": "code",
   "execution_count": 11,
   "metadata": {
    "pycharm": {
     "is_executing": true
    },
    "scrolled": false
   },
   "outputs": [],
   "source": [
    "#ode_results.plot()"
   ]
  },
  {
   "cell_type": "code",
   "execution_count": 12,
   "metadata": {
    "pycharm": {
     "is_executing": true
    },
    "scrolled": false
   },
   "outputs": [],
   "source": [
    "#ssa_results.plot()"
   ]
  },
  {
   "cell_type": "code",
   "execution_count": 13,
   "metadata": {
    "pycharm": {
     "is_executing": true
    },
    "scrolled": false
   },
   "outputs": [],
   "source": [
    "#tau_results.plot()"
   ]
  },
  {
   "cell_type": "code",
   "execution_count": 14,
   "metadata": {
    "pycharm": {
     "is_executing": true
    },
    "scrolled": false
   },
   "outputs": [],
   "source": [
    "#hybrid_results.plot()"
   ]
  },
  {
   "cell_type": "markdown",
   "metadata": {},
   "source": [
    "# Performance timing "
   ]
  },
  {
   "cell_type": "code",
   "execution_count": 15,
   "metadata": {},
   "outputs": [],
   "source": [
    "all_solvers = {\n",
    " #'CLESolver': gillespy2.solvers.numpy.CLE_solver.CLESolver,\n",
    " 'NumPySSASolver': gillespy2.solvers.numpy.ssa_solver.NumPySSASolver,\n",
    " 'ODECSolver': gillespy2.solvers.cpp.ode_c_solver.ODECSolver,\n",
    " 'ODESolver': gillespy2.solvers.numpy.ode_solver.ODESolver,\n",
    " 'SSACSolver': gillespy2.solvers.cpp.ssa_c_solver.SSACSolver,\n",
    " 'TauHybridCSolver': gillespy2.solvers.cpp.tau_hybrid_c_solver.TauHybridCSolver,\n",
    " 'TauHybridSolver': gillespy2.solvers.numpy.tau_hybrid_solver.TauHybridSolver,\n",
    " 'TauLeapingCSolver': gillespy2.solvers.cpp.tau_leaping_c_solver.TauLeapingCSolver,\n",
    " 'TauLeapingSolver': gillespy2.solvers.numpy.tau_leaping_solver.TauLeapingSolver,\n",
    "}\n"
   ]
  },
  {
   "cell_type": "code",
   "execution_count": 16,
   "metadata": {},
   "outputs": [],
   "source": [
    "def time_solver(solver,number_of_trajectories=1):\n",
    "    t1 = time.perf_counter()\n",
    "    mode = create_vilar_oscillator()\n",
    "    t2 = time.perf_counter()\n",
    "    sol = solver(model=model)\n",
    "    t3 = time.perf_counter()\n",
    "    res = sol.run(number_of_trajectories=number_of_trajectories)\n",
    "    t4 = time.perf_counter()\n",
    "    model_time = t2-t1\n",
    "    compile_time = t3-t2\n",
    "    run_time = t4-t3\n",
    "    return (model_time,compile_time,run_time)\n",
    "    "
   ]
  },
  {
   "cell_type": "code",
   "execution_count": 17,
   "metadata": {},
   "outputs": [
    {
     "name": "stderr",
     "output_type": "stream",
     "text": [
      "/usr/lib/python3/dist-packages/scipy/integrate/_ode.py:1347: UserWarning: lsoda: Excess work done on this call (perhaps wrong Dfun type).\n",
      "  warnings.warn('{:s}: {:s}'.format(self.__class__.__name__,\n"
     ]
    },
    {
     "data": {
      "text/plain": [
       "(0.0031170339934760705, 0.0010537570051383227, 0.6517688230014755)"
      ]
     },
     "execution_count": 17,
     "metadata": {},
     "output_type": "execute_result"
    }
   ],
   "source": [
    "time_solver(all_solvers['ODESolver'])"
   ]
  },
  {
   "cell_type": "code",
   "execution_count": 18,
   "metadata": {},
   "outputs": [],
   "source": [
    "#for sname,sclass in all_solvers.items():\n",
    "#    print(f\"{sname}: \",end='')\n",
    "#    (mt,ct,rt) = time_solver(sclass)\n",
    "#    print(f\"{mt} {ct} {rt}\")"
   ]
  },
  {
   "cell_type": "code",
   "execution_count": 19,
   "metadata": {},
   "outputs": [],
   "source": [
    "v_num_traj = [1e0, 1e1, 1e2, 1e3,]\n",
    "timing_data = {}"
   ]
  },
  {
   "cell_type": "code",
   "execution_count": 20,
   "metadata": {},
   "outputs": [
    {
     "name": "stdout",
     "output_type": "stream",
     "text": [
      "[1.0, 10.0, 100.0, 1000.0]\n",
      "{'ODESolver': {'mt': [0.008135053009027615, 0.002601307991426438, 0.0024439759872620925, 0.002352957002585754], 'ct': [0.005327806997229345, 0.0007346160127781332, 0.0007756480044918135, 0.0007319199939956889], 'rt': [0.6836650469922461, 0.678447297992534, 0.6918913900008192, 0.6810719409986632]}, 'SSACSolver': {'mt': [0.004509607999352738, 0.0026580350095173344, 0.0027326560084475204, 0.002919210004620254], 'ct': [2.920141940994654, 2.879773316992214, 2.8839452899992466, 2.810304332000669], 'rt': [0.07868387800408527, 0.6354037040000549, 6.335144216995104, 69.30508759600343]}, 'TauHybridCSolver': {'mt': [0.0040096260054269806, 0.0026505319983698428, 0.0029091420001350343, 0.0028389039944158867], 'ct': [11.784797839995008, 11.218686616994091, 12.014192963993992, 11.247429743001703], 'rt': [1.2852603149949573, 14.65219504700508, 148.71072442500736, 1546.290681308994]}, 'TauLeapingCSolver': {'mt': [0.003321977987070568, 0.002897174999816343, 0.002750504994764924, 0.003248078006436117], 'ct': [5.182474995002849, 5.214327080990188, 5.0628327280137455, 5.722176091992878], 'rt': [1.9976692100026412, 17.89477047600667, 181.95526407199213, 1899.618805339007]}, 'TauLeapingSolver': {'mt': [0.007024146994808689, 0.0024073209933703765, 0.0027140640013385564, 0.0035680480068549514], 'ct': [0.0028685809957096353, 0.0007327920029638335, 0.0008513209904776886, 0.0010632179910317063], 'rt': [28.201002791000064, 300.453380535997, 3287.9184651480027, 9124.24757852401]}, 'NumPySSASolver': {'mt': [0.0040166840044548735, 0.0026639729912858456, 0.0023399339988827705, 0.0029673219978576526], 'ct': [0.10514455099473707, 0.0008438100048806518, 0.000757469009840861, 0.0009349610045319423], 'rt': [12.869346519000828, 125.37097538499802, 1273.5606210569968, 5789.393572772999]}, 'ODECSolver': {'mt': [0.005881180986762047, 0.0028791609802283347, 0.0030622140038758516, 0.0031699209939688444], 'ct': [6.328858891996788, 6.253216383018298, 6.329503704007948, 6.607535276009003], 'rt': [0.04177206099848263, 0.04579290500259958, 0.06542767098289914, 0.2057575660001021]}, 'TauHybridSolver': {'mt': [0.006587555995793082, 0.0032916880008997396, 0.0025496269954601303], 'ct': [0.0013683459983440116, 0.0009828969923546538, 0.0008804040116956457], 'rt': [420.6572863449983, 3206.119823660003, 26689.94409995299]}}\n"
     ]
    }
   ],
   "source": [
    "import pickle\n",
    "with open('Vilar_oscillator_n_traj_runtime.p','rb') as fd:\n",
    "    pdata = pickle.load(fd)\n",
    "    timing_data = pdata['timing_data']\n",
    "    v_num_traj = pdata['v_num_traj']\n",
    "print(v_num_traj)\n",
    "print(timing_data)"
   ]
  },
  {
   "cell_type": "code",
   "execution_count": null,
   "metadata": {
    "scrolled": false
   },
   "outputs": [
    {
     "name": "stdout",
     "output_type": "stream",
     "text": [
      "Thu Aug  4 09:05:25 2022 NumPySSASolver: skipping NumPySSASolver\n",
      "Thu Aug  4 09:05:25 2022 ODECSolver: skipping ODECSolver\n",
      "Thu Aug  4 09:05:25 2022 ODESolver: skipping ODESolver\n",
      "Thu Aug  4 09:05:25 2022 SSACSolver: skipping SSACSolver\n",
      "Thu Aug  4 09:05:25 2022 TauHybridCSolver: skipping TauHybridCSolver\n",
      "Thu Aug  4 09:05:25 2022 TauHybridSolver: 1.0 10.0 100.0 "
     ]
    }
   ],
   "source": [
    "for sname,sclass in all_solvers.items():\n",
    "    print(f\"{datetime.datetime.today().strftime('%c')}\", end=' ')\n",
    "    print(f\"{sname}: \",end='')\n",
    "    if sname in timing_data:\n",
    "        print(f\"skipping {sname}\")\n",
    "        continue\n",
    "    timing_data[sname] = {'mt':[], 'ct':[], 'rt':[]}\n",
    "    for v_num in v_num_traj:\n",
    "        print(f\"{v_num} \",end='')\n",
    "        try:\n",
    "            (mt,ct,rt) = time_solver(sclass, number_of_trajectories=int(v_num))\n",
    "            timing_data[sname]['mt'].append(mt)\n",
    "            timing_data[sname]['ct'].append(ct)\n",
    "            timing_data[sname]['rt'].append(rt)\n",
    "        except Exception as e:\n",
    "            print(f\"{datetime.datetime.today().strftime('%c')}\")\n",
    "            print()\n",
    "            raise e\n",
    "    print()\n",
    "    #break"
   ]
  },
  {
   "cell_type": "code",
   "execution_count": null,
   "metadata": {},
   "outputs": [],
   "source": [
    "timing_data"
   ]
  },
  {
   "cell_type": "code",
   "execution_count": null,
   "metadata": {},
   "outputs": [],
   "source": []
  },
  {
   "cell_type": "code",
   "execution_count": null,
   "metadata": {},
   "outputs": [],
   "source": []
  },
  {
   "cell_type": "code",
   "execution_count": null,
   "metadata": {},
   "outputs": [],
   "source": []
  },
  {
   "cell_type": "code",
   "execution_count": null,
   "metadata": {},
   "outputs": [],
   "source": []
  },
  {
   "cell_type": "code",
   "execution_count": null,
   "metadata": {},
   "outputs": [],
   "source": [
    "def plot_timing_data(sname, keys=None):\n",
    "    ky = keys\n",
    "    key_lookup = {'tt':'Total Time','mt':\"Model Time\",'ct':\"Compile Time\",'rt':\"Simulation Time\"}\n",
    "    if ky is None:\n",
    "        ky = key_lookup.keys()\n",
    "    for k in ky:\n",
    "        if k=='tt':\n",
    "            d = numpy.sum([ timing_data[sname][k] for k in timing_data[sname].keys() ],axis=0)\n",
    "            plt.loglog(v_num_traj[:len(d)], d, label=f\"{sname}\")\n",
    "        else:\n",
    "            d = timing_data[sname][k]\n",
    "            if len(ky)==1:\n",
    "                plt.loglog(v_num_traj[:len(d)], d, label=f\"{sname}\")\n",
    "            else:\n",
    "                plt.plot(v_num_traj[:len(d)], d, label=f\"{sname}-{k}\")\n",
    "    if len(ky)==1:\n",
    "        plt.title(key_lookup[k])\n",
    "    plt.legend(loc='best')\n",
    "    plt.xlabel('Number of Trajectories')\n",
    "    plt.ylabel('Time (s)')"
   ]
  },
  {
   "cell_type": "code",
   "execution_count": null,
   "metadata": {},
   "outputs": [],
   "source": [
    "plot_timing_data('ODESolver')"
   ]
  },
  {
   "cell_type": "code",
   "execution_count": null,
   "metadata": {},
   "outputs": [],
   "source": [
    "plot_timing_data('TauHybridSolver')"
   ]
  },
  {
   "cell_type": "code",
   "execution_count": null,
   "metadata": {},
   "outputs": [],
   "source": [
    "plot_timing_data('SSACSolver')"
   ]
  },
  {
   "cell_type": "code",
   "execution_count": null,
   "metadata": {},
   "outputs": [],
   "source": [
    "for k in timing_data.keys():\n",
    "    plot_timing_data(k)"
   ]
  },
  {
   "cell_type": "code",
   "execution_count": null,
   "metadata": {
    "scrolled": false
   },
   "outputs": [],
   "source": [
    "for ky in ['mt','ct','rt','tt']:\n",
    "    plt.figure()\n",
    "    for k in timing_data.keys():\n",
    "        plot_timing_data(k,[ky])"
   ]
  },
  {
   "cell_type": "code",
   "execution_count": null,
   "metadata": {},
   "outputs": [],
   "source": [
    "timing_data"
   ]
  },
  {
   "cell_type": "code",
   "execution_count": null,
   "metadata": {},
   "outputs": [],
   "source": [
    "#plt.rcParams['axes.prop_cycle'].by_key()['color']"
   ]
  },
  {
   "cell_type": "code",
   "execution_count": null,
   "metadata": {},
   "outputs": [],
   "source": []
  },
  {
   "cell_type": "code",
   "execution_count": null,
   "metadata": {},
   "outputs": [],
   "source": [
    "def plot_timing_dataPROD(key=None):\n",
    "#     ky = keys\n",
    "#     key_lookup = {'tt':'Total Time','mt':\"Model Time\",'ct':\"Compile Time\",'rt':\"Run Time\"}\n",
    "#     if ky is None:\n",
    "#         ky = key_lookup.keys()\n",
    "#     for k in ky:\n",
    "#         if k=='tt':\n",
    "#             d = numpy.sum([ timing_data[sname][k] for k in timing_data[sname].keys() ],axis=0)\n",
    "#             plt.loglog(v_num_traj, d, label=f\"{sname}\")\n",
    "#         else:\n",
    "#             if len(ky)==1:\n",
    "#                 plt.loglog(v_num_traj, timing_data[sname][k], label=f\"{sname}\")\n",
    "#             else:\n",
    "#                 plt.plot(v_num_traj, timing_data[sname][k], label=f\"{sname}-{k}\")\n",
    "#     if len(ky)==1:\n",
    "#         plt.title(key_lookup[k])\n",
    "#     plt.legend(loc='best')\n",
    "#     plt.xlabel('Number of Trajectories')\n",
    "#     plt.ylabel('Time (s)')\n",
    "\n",
    "    key_lookup = {'tt':'Total Time','mt':\"Model Time\",'ct':\"Initialization+Compile Time\",'rt':\"Simulation Time\"}\n",
    "    if key not in key_lookup:\n",
    "        raise Exception(\"unknown key\")\n",
    "    \n",
    "    key_order = [\n",
    "         'SSACSolver',\n",
    "         'NumPySSASolver',\n",
    "         'TauHybridCSolver',\n",
    "         'TauHybridSolver',\n",
    "         'TauLeapingCSolver',\n",
    "         'TauLeapingSolver',\n",
    "         'ODECSolver',\n",
    "         'ODESolver',\n",
    "    ]\n",
    "#     color_1 = '#1f77b4';\n",
    "#     #color_2 = '#ff7f0e';\n",
    "#     #color_2 = '#ee8f0e';\n",
    "#     color_2 = '#7f7f7f';\n",
    "#     #color_3 =  '#2ca02c';\n",
    "#     #color_3 =  '#9467bd';\n",
    "#     color_3 =  '#cc66ff';\n",
    "#     color_4 = '#d62728';\n",
    "    color_1 = '#1f77b4'\n",
    "    color_2 = '#ff7f0e'\n",
    "    color_3 = '#2ca02c'\n",
    "    color_4 = '#d62728'\n",
    "    key_linecolor = {\n",
    "         'SSACSolver':color_1,\n",
    "         'NumPySSASolver':color_1,\n",
    "         'TauHybridCSolver':color_2,\n",
    "         'TauHybridSolver':color_2,\n",
    "         'TauLeapingCSolver':color_3,\n",
    "         'TauLeapingSolver':color_3,\n",
    "         'ODECSolver':color_4,\n",
    "         'ODESolver':color_4,\n",
    "    }\n",
    "    \n",
    "    \n",
    "    fig = plt.figure(figsize=(3.54,3.54), dpi=600)\n",
    "    #if sname=='TauHybridSolver' and sname not in timing_data:continue\n",
    "    for sname in key_order:\n",
    "        if key=='tt':\n",
    "            d = numpy.sum([ timing_data[sname][k] for k in timing_data[sname].keys() ],axis=0)\n",
    "        else:\n",
    "            d = timing_data[sname][key]\n",
    "        new_name = sname.replace('NumPy','')\n",
    "        if new_name.endswith('CSolver'):\n",
    "            new_name = new_name.replace('CSolver',' C++')\n",
    "            plt.loglog(v_num_traj[:len(d)], d, '.-', color=key_linecolor[sname], label=f\"{new_name}\")\n",
    "        else:\n",
    "            new_name = new_name.replace('Solver',' Python')\n",
    "            plt.loglog(v_num_traj[:len(d)], d, '.--', color=key_linecolor[sname], label=f\"{new_name}\")\n",
    "\n",
    "    plt.title(key_lookup[key], fontsize=14)\n",
    "    plt.xlabel('Number of Trajectories', fontsize=12)\n",
    "    plt.ylabel('Time (s)', fontsize=12)\n",
    "    plt.xticks(fontsize=8)\n",
    "    plt.ylim([1e-4, 26700.])\n",
    "    plt.yticks([1e-4, 1e-3, 1e-2, 1e-1, 1e0, 1e1, 1e2, 1e3, 1e4], fontsize=8)\n",
    "    if key=='tt':\n",
    "        plt.legend(loc='lower right', fontsize=8)\n",
    "    plt.savefig(f\"../images/Vilar_performance_v_traj-{key}.pdf\", bbox_inches='tight')\n"
   ]
  },
  {
   "cell_type": "code",
   "execution_count": null,
   "metadata": {},
   "outputs": [],
   "source": [
    "x = list(timing_data.keys())\n",
    "x.sort()\n",
    "x"
   ]
  },
  {
   "cell_type": "code",
   "execution_count": null,
   "metadata": {},
   "outputs": [],
   "source": [
    "plot_timing_dataPROD('tt')"
   ]
  },
  {
   "cell_type": "code",
   "execution_count": null,
   "metadata": {},
   "outputs": [],
   "source": [
    "plot_timing_dataPROD('mt')"
   ]
  },
  {
   "cell_type": "code",
   "execution_count": null,
   "metadata": {},
   "outputs": [],
   "source": [
    "plot_timing_dataPROD('ct')"
   ]
  },
  {
   "cell_type": "code",
   "execution_count": null,
   "metadata": {},
   "outputs": [],
   "source": [
    "plot_timing_dataPROD('rt')"
   ]
  },
  {
   "cell_type": "code",
   "execution_count": null,
   "metadata": {},
   "outputs": [],
   "source": []
  },
  {
   "cell_type": "code",
   "execution_count": null,
   "metadata": {},
   "outputs": [],
   "source": []
  },
  {
   "cell_type": "code",
   "execution_count": null,
   "metadata": {},
   "outputs": [],
   "source": []
  },
  {
   "cell_type": "code",
   "execution_count": null,
   "metadata": {},
   "outputs": [],
   "source": []
  },
  {
   "cell_type": "code",
   "execution_count": null,
   "metadata": {},
   "outputs": [],
   "source": [
    "raise Exception('stop run-all here')"
   ]
  },
  {
   "cell_type": "code",
   "execution_count": null,
   "metadata": {},
   "outputs": [],
   "source": [
    "import pickle"
   ]
  },
  {
   "cell_type": "code",
   "execution_count": null,
   "metadata": {},
   "outputs": [],
   "source": [
    "timing_data"
   ]
  },
  {
   "cell_type": "code",
   "execution_count": null,
   "metadata": {},
   "outputs": [],
   "source": [
    "with open('Vilar_oscillator_n_traj_runtime.p','wb') as fd:\n",
    "    pickle.dump({\n",
    "        'timing_data':timing_data,\n",
    "        'v_num_traj':v_num_traj\n",
    "    },fd)"
   ]
  },
  {
   "cell_type": "code",
   "execution_count": null,
   "metadata": {},
   "outputs": [],
   "source": []
  }
 ],
 "metadata": {
  "kernelspec": {
   "display_name": "Python 3",
   "language": "python",
   "name": "python3"
  },
  "language_info": {
   "codemirror_mode": {
    "name": "ipython",
    "version": 3
   },
   "file_extension": ".py",
   "mimetype": "text/x-python",
   "name": "python",
   "nbconvert_exporter": "python",
   "pygments_lexer": "ipython3",
   "version": "3.8.10"
  }
 },
 "nbformat": 4,
 "nbformat_minor": 1
}
