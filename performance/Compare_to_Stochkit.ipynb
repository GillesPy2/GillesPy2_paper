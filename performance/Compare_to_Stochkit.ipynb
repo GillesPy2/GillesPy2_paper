{
 "cells": [
  {
   "cell_type": "code",
   "execution_count": 1,
   "metadata": {},
   "outputs": [],
   "source": [
    "import os\n",
    "import sys\n",
    "sys.path.insert(1, os.path.abspath(os.path.join(os.getcwd(), '../../GillesPy2/')))\n",
    "sys.path.insert(1, os.path.abspath(os.path.join(os.getcwd(), '../../GillesPy2/test')))"
   ]
  },
  {
   "cell_type": "code",
   "execution_count": 2,
   "metadata": {},
   "outputs": [],
   "source": [
    "import gillespy2"
   ]
  },
  {
   "cell_type": "code",
   "execution_count": 3,
   "metadata": {},
   "outputs": [],
   "source": [
    "import example_models"
   ]
  },
  {
   "cell_type": "code",
   "execution_count": 4,
   "metadata": {},
   "outputs": [],
   "source": [
    "from matplotlib import pyplot as plt\n",
    "import time"
   ]
  },
  {
   "cell_type": "code",
   "execution_count": 5,
   "metadata": {},
   "outputs": [
    {
     "data": {
      "text/plain": [
       "['AssignmentRule',\n",
       " 'Event',\n",
       " 'EventAssignment',\n",
       " 'EventTrigger',\n",
       " 'FunctionDefinition',\n",
       " 'Model',\n",
       " 'Parameter',\n",
       " 'RateRule',\n",
       " 'Reaction',\n",
       " 'Species',\n",
       " '__all__',\n",
       " '__builtins__',\n",
       " '__cached__',\n",
       " '__doc__',\n",
       " '__file__',\n",
       " '__loader__',\n",
       " '__name__',\n",
       " '__package__',\n",
       " '__spec__',\n",
       " 'create_decay',\n",
       " 'create_decay_no_tspan',\n",
       " 'create_degradation',\n",
       " 'create_dimerization',\n",
       " 'create_lac_operon',\n",
       " 'create_michaelis_menten',\n",
       " 'create_multi_firing_event',\n",
       " 'create_oregonator',\n",
       " 'create_robust_model',\n",
       " 'create_schlogl',\n",
       " 'create_toggle_switch',\n",
       " 'create_trichloroethylene',\n",
       " 'create_tyson_2_state_oscillator',\n",
       " 'create_vilar_oscillator',\n",
       " 'np']"
      ]
     },
     "execution_count": 5,
     "metadata": {},
     "output_type": "execute_result"
    }
   ],
   "source": [
    "dir(example_models)"
   ]
  },
  {
   "cell_type": "code",
   "execution_count": 6,
   "metadata": {},
   "outputs": [],
   "source": [
    "all_example_models = [\n",
    " 'create_decay',\n",
    " 'create_degradation',\n",
    " 'create_dimerization',\n",
    " 'create_lac_operon',\n",
    " 'create_michaelis_menten',\n",
    " 'create_multi_firing_event',\n",
    " 'create_oregonator',\n",
    " 'create_robust_model',\n",
    " 'create_schlogl',\n",
    " 'create_toggle_switch',\n",
    " 'create_trichloroethylene',\n",
    " 'create_tyson_2_state_oscillator',\n",
    " 'create_vilar_oscillator',\n",
    "]"
   ]
  },
  {
   "cell_type": "code",
   "execution_count": 29,
   "metadata": {},
   "outputs": [],
   "source": [
    "all_solvers = {\n",
    " 'CLESolver': gillespy2.solvers.numpy.CLE_solver.CLESolver,\n",
    " 'NumPySSASolver': gillespy2.solvers.numpy.ssa_solver.NumPySSASolver,\n",
    " 'ODECSolver': gillespy2.solvers.cpp.ode_c_solver.ODECSolver,\n",
    " 'ODESolver': gillespy2.solvers.numpy.ode_solver.ODESolver,\n",
    " 'SSACSolver': gillespy2.solvers.cpp.ssa_c_solver.SSACSolver,\n",
    " 'TauHybridCSolver': gillespy2.solvers.cpp.tau_hybrid_c_solver.TauHybridCSolver,\n",
    " 'TauHybridSolver': gillespy2.solvers.numpy.tau_hybrid_solver.TauHybridSolver,\n",
    " 'TauLeapingCSolver': gillespy2.solvers.cpp.tau_leaping_c_solver.TauLeapingCSolver,\n",
    " 'TauLeapingSolver': gillespy2.solvers.numpy.tau_leaping_solver.TauLeapingSolver,\n",
    " 'StochKit' : gillespy2.solvers.stochkit.StochKitSolver\n",
    "}\n"
   ]
  },
  {
   "cell_type": "code",
   "execution_count": 9,
   "metadata": {},
   "outputs": [],
   "source": [
    "import gillespy2.solvers.stochkit"
   ]
  },
  {
   "cell_type": "code",
   "execution_count": 10,
   "metadata": {},
   "outputs": [],
   "source": [
    "stochkit_sol = gillespy2.solvers.stochkit.StochKitSolver()"
   ]
  },
  {
   "cell_type": "code",
   "execution_count": 11,
   "metadata": {},
   "outputs": [],
   "source": [
    "stochkit_ode_sol = gillespy2.solvers.stochkit.StochKitODESolver()"
   ]
  },
  {
   "cell_type": "code",
   "execution_count": 14,
   "metadata": {},
   "outputs": [],
   "source": [
    "#model = example_models.create_michaelis_menten()\n",
    "model = example_models.create_vilar_oscillator()"
   ]
  },
  {
   "cell_type": "code",
   "execution_count": 15,
   "metadata": {},
   "outputs": [
    {
     "name": "stdout",
     "output_type": "stream",
     "text": [
      "CPU times: user 7 µs, sys: 1 µs, total: 8 µs\n",
      "Wall time: 10.7 µs\n"
     ]
    }
   ],
   "source": [
    "%time stochkit_sol = gillespy2.solvers.stochkit.StochKitSolver()"
   ]
  },
  {
   "cell_type": "code",
   "execution_count": 17,
   "metadata": {},
   "outputs": [
    {
     "name": "stdout",
     "output_type": "stream",
     "text": [
      "CPU times: user 2.6 s, sys: 24.2 ms, total: 2.63 s\n",
      "Wall time: 9.77 s\n"
     ]
    }
   ],
   "source": [
    "%%time\n",
    "r = stochkit_sol.run(model=model, \n",
    "                     number_of_trajectories=100,\n",
    "                     t = model.tspan[-1], \n",
    "                     incriment=(model.tspan[1]-model.tspan[0]), \n",
    "                     stochkit_home=os.environ['HOME']+'/StochKit/')"
   ]
  },
  {
   "cell_type": "code",
   "execution_count": 33,
   "metadata": {},
   "outputs": [],
   "source": [
    "def time_run_solver(sname, model):\n",
    "    if sname == 'StochKit':\n",
    "        start_time = time.perf_counter()  \n",
    "        stochkit_sol = gillespy2.solvers.stochkit.StochKitSolver()\n",
    "\n",
    "        r = stochkit_sol.run(model=model, \n",
    "                             t = model.tspan[-1], \n",
    "                             incriment=(model.tspan[1]-model.tspan[0]), \n",
    "                             stochkit_home=os.environ['HOME']+'/StochKit/')\n",
    "        end_time= time.perf_counter()\n",
    "        return end_time - start_time\n",
    "    else:\n",
    "        start_time = time.perf_counter()  \n",
    "        sol = all_solvers[sname](model=model)\n",
    "        r = sol.run()\n",
    "        end_time= time.perf_counter()\n",
    "        return end_time - start_time\n"
   ]
  },
  {
   "cell_type": "code",
   "execution_count": 26,
   "metadata": {},
   "outputs": [
    {
     "data": {
      "text/plain": [
       "3.0633025330025703"
      ]
     },
     "execution_count": 26,
     "metadata": {},
     "output_type": "execute_result"
    }
   ],
   "source": [
    "time_run_solver('SSACSolver', model)"
   ]
  },
  {
   "cell_type": "code",
   "execution_count": 34,
   "metadata": {},
   "outputs": [
    {
     "data": {
      "text/plain": [
       "0.04327188801835291"
      ]
     },
     "execution_count": 34,
     "metadata": {},
     "output_type": "execute_result"
    }
   ],
   "source": [
    "time_run_solver('StochKit', model)"
   ]
  },
  {
   "cell_type": "code",
   "execution_count": 51,
   "metadata": {},
   "outputs": [
    {
     "data": {
      "text/plain": [
       "401"
      ]
     },
     "execution_count": 51,
     "metadata": {},
     "output_type": "execute_result"
    }
   ],
   "source": [
    "len(r[0][0])"
   ]
  },
  {
   "cell_type": "code",
   "execution_count": 54,
   "metadata": {},
   "outputs": [
    {
     "data": {
      "text/plain": [
       "array([  0.,   1.,   2.,   3.,   4.,   5.,   6.,   7.,   8.,   9.,  10.,\n",
       "        11.,  12.,  13.,  14.,  15.,  16.,  17.,  18.,  19.,  20.,  21.,\n",
       "        22.,  23.,  24.,  25.,  26.,  27.,  28.,  29.,  30.,  31.,  32.,\n",
       "        33.,  34.,  35.,  36.,  37.,  38.,  39.,  40.,  41.,  42.,  43.,\n",
       "        44.,  45.,  46.,  47.,  48.,  49.,  50.,  51.,  52.,  53.,  54.,\n",
       "        55.,  56.,  57.,  58.,  59.,  60.,  61.,  62.,  63.,  64.,  65.,\n",
       "        66.,  67.,  68.,  69.,  70.,  71.,  72.,  73.,  74.,  75.,  76.,\n",
       "        77.,  78.,  79.,  80.,  81.,  82.,  83.,  84.,  85.,  86.,  87.,\n",
       "        88.,  89.,  90.,  91.,  92.,  93.,  94.,  95.,  96.,  97.,  98.,\n",
       "        99., 100.])"
      ]
     },
     "execution_count": 54,
     "metadata": {},
     "output_type": "execute_result"
    }
   ],
   "source": [
    "model.tspan.items"
   ]
  },
  {
   "cell_type": "code",
   "execution_count": 80,
   "metadata": {},
   "outputs": [
    {
     "data": {
      "text/plain": [
       "array([  0.05, 296.  , 115.  ,   5.  ,   0.  ])"
      ]
     },
     "execution_count": 80,
     "metadata": {},
     "output_type": "execute_result"
    }
   ],
   "source": [
    "r[0][0][1]"
   ]
  },
  {
   "cell_type": "code",
   "execution_count": null,
   "metadata": {},
   "outputs": [],
   "source": [
    "pl"
   ]
  },
  {
   "cell_type": "code",
   "execution_count": 71,
   "metadata": {},
   "outputs": [
    {
     "data": {
      "text/plain": [
       "<matplotlib.legend.Legend at 0x7f6a61aec160>"
      ]
     },
     "execution_count": 71,
     "metadata": {},
     "output_type": "execute_result"
    },
    {
     "data": {
      "image/png": "[encoded data removed]",
      "text/plain": [
       "<Figure size 432x288 with 1 Axes>"
      ]
     },
     "metadata": {
      "needs_background": "light"
     },
     "output_type": "display_data"
    }
   ],
   "source": [
    "for i in range(1,r[0][0].shape[1]):\n",
    "    plt.plot(r[0][0][0], r[0][0][i], label=i)\n",
    "plt.legend()"
   ]
  },
  {
   "cell_type": "code",
   "execution_count": 60,
   "metadata": {},
   "outputs": [
    {
     "ename": "AttributeError",
     "evalue": "'numpy.ndarray' object has no attribute 'dim'",
     "output_type": "error",
     "traceback": [
      "\u001b[0;31m---------------------------------------------------------------------------\u001b[0m",
      "\u001b[0;31mAttributeError\u001b[0m                            Traceback (most recent call last)",
      "\u001b[0;32m<ipython-input-60-49d05b9fe0b4>\u001b[0m in \u001b[0;36m<module>\u001b[0;34m\u001b[0m\n\u001b[0;32m----> 1\u001b[0;31m \u001b[0mr\u001b[0m\u001b[0;34m[\u001b[0m\u001b[0;36m0\u001b[0m\u001b[0;34m]\u001b[0m\u001b[0;34m[\u001b[0m\u001b[0;36m0\u001b[0m\u001b[0;34m]\u001b[0m\u001b[0;34m.\u001b[0m\u001b[0mdim\u001b[0m\u001b[0;34m\u001b[0m\u001b[0;34m\u001b[0m\u001b[0m\n\u001b[0m",
      "\u001b[0;31mAttributeError\u001b[0m: 'numpy.ndarray' object has no attribute 'dim'"
     ]
    }
   ],
   "source": [
    "r[0][0]r[0][0].ndim"
   ]
  },
  {
   "cell_type": "code",
   "execution_count": 58,
   "metadata": {},
   "outputs": [
    {
     "name": "stdout",
     "output_type": "stream",
     "text": [
      "[[  0.   301.   120.     0.     0.  ]\n",
      " [  0.05 296.   115.     5.     0.  ]\n",
      " [  0.1  293.   112.     8.     0.  ]\n",
      " ...\n",
      " [ 19.9  174.    82.    38.    89.  ]\n",
      " [ 19.95 176.    85.    35.    90.  ]\n",
      " [ 20.   177.    86.    34.    90.  ]]\n"
     ]
    }
   ],
   "source": [
    "print(r[0][0])"
   ]
  },
  {
   "cell_type": "code",
   "execution_count": 18,
   "metadata": {},
   "outputs": [],
   "source": [
    "#print(model)"
   ]
  },
  {
   "cell_type": "code",
   "execution_count": 30,
   "metadata": {},
   "outputs": [
    {
     "data": {
      "text/plain": [
       "['CLESolver',\n",
       " 'NumPySSASolver',\n",
       " 'ODECSolver',\n",
       " 'ODESolver',\n",
       " 'SSACSolver',\n",
       " 'TauHybridCSolver',\n",
       " 'TauHybridSolver',\n",
       " 'TauLeapingCSolver',\n",
       " 'TauLeapingSolver',\n",
       " 'StochKit']"
      ]
     },
     "execution_count": 30,
     "metadata": {},
     "output_type": "execute_result"
    }
   ],
   "source": [
    "list(all_solvers.keys())"
   ]
  },
  {
   "cell_type": "code",
   "execution_count": 37,
   "metadata": {
    "scrolled": false
   },
   "outputs": [
    {
     "name": "stdout",
     "output_type": "stream",
     "text": [
      "Example\n",
      "\tStochKit 0.038318712991895154\n",
      "\tSSACSolver 3.367130001017358\n",
      "Degradation\n",
      "\tStochKit 0.06023914599791169\n",
      "\tSSACSolver 3.385716680000769\n",
      "Dimerization\n",
      "\tStochKit 0.06055352202383801\n",
      "\tSSACSolver 3.413833315978991\n",
      "LacOperon\n"
     ]
    },
    {
     "ename": "SimulationError",
     "evalue": "Error running simulation: /tmp/tmp79cns5fd/temp_input_2795d5b2-b8e3-4168-a6c2-846725d3b959_generated_code/compile-log.txt\ng++: error: /home/brian/StochKit/obj/Random.o: No such file or directory\ng++: error: /home/brian/StochKit/obj/Parameter.o: No such file or directory\ng++: error: /home/brian/StochKit/obj/CommandLineInterface.o: No such file or directory\ng++: error: /home/brian/StochKit/obj/StandardDriverUtilities.o: No such file or directory\ng++: error: /home/brian/StochKit/obj/StringCalculator.o: No such file or directory\nmake: *** [Makefile:127: ssa_direct_mixed_small_compiled] Error 1\n\n",
     "output_type": "error",
     "traceback": [
      "\u001b[0;31m---------------------------------------------------------------------------\u001b[0m",
      "\u001b[0;31mFileNotFoundError\u001b[0m                         Traceback (most recent call last)",
      "\u001b[0;32m~/Desktop/research/GillesPy2/gillespy2/solvers/stochkit/stochkit_solvers.py\u001b[0m in \u001b[0;36mrun\u001b[0;34m(cls, model, t, number_of_trajectories, increment, seed, stochkit_home, algorithm, job_id, extra_args, debug, profile, show_labels, **kwargs)\u001b[0m\n\u001b[1;32m    156\u001b[0m             \u001b[0;31m# Get data using solver specific function\u001b[0m\u001b[0;34m\u001b[0m\u001b[0;34m\u001b[0m\u001b[0;34m\u001b[0m\u001b[0m\n\u001b[0;32m--> 157\u001b[0;31m             \u001b[0mtrajectories\u001b[0m \u001b[0;34m=\u001b[0m \u001b[0mcls\u001b[0m\u001b[0;34m.\u001b[0m\u001b[0mget_trajectories\u001b[0m\u001b[0;34m(\u001b[0m\u001b[0mout_dir\u001b[0m\u001b[0;34m,\u001b[0m \u001b[0mdebug\u001b[0m\u001b[0;34m=\u001b[0m\u001b[0mdebug\u001b[0m\u001b[0;34m,\u001b[0m \u001b[0mshow_labels\u001b[0m\u001b[0;34m=\u001b[0m\u001b[0mshow_labels\u001b[0m\u001b[0;34m)\u001b[0m\u001b[0;34m\u001b[0m\u001b[0;34m\u001b[0m\u001b[0m\n\u001b[0m\u001b[1;32m    158\u001b[0m             \u001b[0;32mif\u001b[0m \u001b[0mlen\u001b[0m\u001b[0;34m(\u001b[0m\u001b[0mtrajectories\u001b[0m\u001b[0;34m)\u001b[0m \u001b[0;34m==\u001b[0m \u001b[0;36m0\u001b[0m\u001b[0;34m:\u001b[0m\u001b[0;34m\u001b[0m\u001b[0;34m\u001b[0m\u001b[0m\n",
      "\u001b[0;32m~/Desktop/research/GillesPy2/gillespy2/solvers/stochkit/stochkit_solvers.py\u001b[0m in \u001b[0;36mget_trajectories\u001b[0;34m(cls, out_dir, debug, show_labels)\u001b[0m\n\u001b[1;32m    304\u001b[0m         \u001b[0mtrajectory_directory\u001b[0m \u001b[0;34m=\u001b[0m \u001b[0mos\u001b[0m\u001b[0;34m.\u001b[0m\u001b[0mpath\u001b[0m\u001b[0;34m.\u001b[0m\u001b[0mjoin\u001b[0m\u001b[0;34m(\u001b[0m\u001b[0mout_dir\u001b[0m\u001b[0;34m,\u001b[0m \u001b[0;34m'trajectories'\u001b[0m\u001b[0;34m)\u001b[0m\u001b[0;34m\u001b[0m\u001b[0;34m\u001b[0m\u001b[0m\n\u001b[0;32m--> 305\u001b[0;31m         \u001b[0;32mfor\u001b[0m \u001b[0mfilename\u001b[0m \u001b[0;32min\u001b[0m \u001b[0mos\u001b[0m\u001b[0;34m.\u001b[0m\u001b[0mlistdir\u001b[0m\u001b[0;34m(\u001b[0m\u001b[0mtrajectory_directory\u001b[0m\u001b[0;34m)\u001b[0m\u001b[0;34m:\u001b[0m\u001b[0;34m\u001b[0m\u001b[0;34m\u001b[0m\u001b[0m\n\u001b[0m\u001b[1;32m    306\u001b[0m             \u001b[0;32mif\u001b[0m \u001b[0;34m'trajectory'\u001b[0m \u001b[0;32min\u001b[0m \u001b[0mfilename\u001b[0m\u001b[0;34m:\u001b[0m\u001b[0;34m\u001b[0m\u001b[0;34m\u001b[0m\u001b[0m\n",
      "\u001b[0;31mFileNotFoundError\u001b[0m: [Errno 2] No such file or directory: '/tmp/tmp79cns5fd/output/2795d5b2-b8e3-4168-a6c2-846725d3b959/trajectories'",
      "\nDuring handling of the above exception, another exception occurred:\n",
      "\u001b[0;31mSimulationError\u001b[0m                           Traceback (most recent call last)",
      "\u001b[0;32m<ipython-input-37-e539e86d1856>\u001b[0m in \u001b[0;36m<module>\u001b[0;34m\u001b[0m\n\u001b[1;32m      3\u001b[0m     \u001b[0mprint\u001b[0m\u001b[0;34m(\u001b[0m\u001b[0mmodel\u001b[0m\u001b[0;34m.\u001b[0m\u001b[0mname\u001b[0m\u001b[0;34m)\u001b[0m\u001b[0;34m\u001b[0m\u001b[0;34m\u001b[0m\u001b[0m\n\u001b[1;32m      4\u001b[0m     \u001b[0;32mfor\u001b[0m \u001b[0msol\u001b[0m \u001b[0;32min\u001b[0m \u001b[0;34m[\u001b[0m\u001b[0;34m'StochKit'\u001b[0m\u001b[0;34m,\u001b[0m\u001b[0;34m'SSACSolver'\u001b[0m\u001b[0;34m]\u001b[0m\u001b[0;34m:\u001b[0m\u001b[0;34m\u001b[0m\u001b[0;34m\u001b[0m\u001b[0m\n\u001b[0;32m----> 5\u001b[0;31m         \u001b[0mprint\u001b[0m\u001b[0;34m(\u001b[0m\u001b[0;34mf\"\\t{sol} {time_run_solver(sol,model)}\"\u001b[0m\u001b[0;34m)\u001b[0m\u001b[0;34m\u001b[0m\u001b[0;34m\u001b[0m\u001b[0m\n\u001b[0m",
      "\u001b[0;32m<ipython-input-33-8de4aabae9ff>\u001b[0m in \u001b[0;36mtime_run_solver\u001b[0;34m(sname, model)\u001b[0m\n\u001b[1;32m      4\u001b[0m         \u001b[0mstochkit_sol\u001b[0m \u001b[0;34m=\u001b[0m \u001b[0mgillespy2\u001b[0m\u001b[0;34m.\u001b[0m\u001b[0msolvers\u001b[0m\u001b[0;34m.\u001b[0m\u001b[0mstochkit\u001b[0m\u001b[0;34m.\u001b[0m\u001b[0mStochKitSolver\u001b[0m\u001b[0;34m(\u001b[0m\u001b[0;34m)\u001b[0m\u001b[0;34m\u001b[0m\u001b[0;34m\u001b[0m\u001b[0m\n\u001b[1;32m      5\u001b[0m \u001b[0;34m\u001b[0m\u001b[0m\n\u001b[0;32m----> 6\u001b[0;31m         r = stochkit_sol.run(model=model, \n\u001b[0m\u001b[1;32m      7\u001b[0m                              \u001b[0mt\u001b[0m \u001b[0;34m=\u001b[0m \u001b[0mmodel\u001b[0m\u001b[0;34m.\u001b[0m\u001b[0mtspan\u001b[0m\u001b[0;34m[\u001b[0m\u001b[0;34m-\u001b[0m\u001b[0;36m1\u001b[0m\u001b[0;34m]\u001b[0m\u001b[0;34m,\u001b[0m\u001b[0;34m\u001b[0m\u001b[0;34m\u001b[0m\u001b[0m\n\u001b[1;32m      8\u001b[0m                              \u001b[0mincriment\u001b[0m\u001b[0;34m=\u001b[0m\u001b[0;34m(\u001b[0m\u001b[0mmodel\u001b[0m\u001b[0;34m.\u001b[0m\u001b[0mtspan\u001b[0m\u001b[0;34m[\u001b[0m\u001b[0;36m1\u001b[0m\u001b[0;34m]\u001b[0m\u001b[0;34m-\u001b[0m\u001b[0mmodel\u001b[0m\u001b[0;34m.\u001b[0m\u001b[0mtspan\u001b[0m\u001b[0;34m[\u001b[0m\u001b[0;36m0\u001b[0m\u001b[0;34m]\u001b[0m\u001b[0;34m)\u001b[0m\u001b[0;34m,\u001b[0m\u001b[0;34m\u001b[0m\u001b[0;34m\u001b[0m\u001b[0m\n",
      "\u001b[0;32m~/Desktop/research/GillesPy2/gillespy2/solvers/stochkit/stochkit_solvers.py\u001b[0m in \u001b[0;36mrun\u001b[0;34m(cls, model, t, number_of_trajectories, increment, seed, stochkit_home, algorithm, job_id, method, debug, show_labels, profile, processes, **kwargs)\u001b[0m\n\u001b[1;32m    293\u001b[0m             \u001b[0margs\u001b[0m \u001b[0;34m+=\u001b[0m \u001b[0;34m' --method '\u001b[0m \u001b[0;34m+\u001b[0m \u001b[0mstr\u001b[0m\u001b[0;34m(\u001b[0m\u001b[0mmethod\u001b[0m\u001b[0;34m)\u001b[0m\u001b[0;34m\u001b[0m\u001b[0;34m\u001b[0m\u001b[0m\n\u001b[1;32m    294\u001b[0m \u001b[0;34m\u001b[0m\u001b[0m\n\u001b[0;32m--> 295\u001b[0;31m         return super().run(model=model, t=t, number_of_trajectories=number_of_trajectories, increment=increment, seed=seed, stochkit_home=stochkit_home,\n\u001b[0m\u001b[1;32m    296\u001b[0m                            algorithm=algorithm, job_id=job_id, debug=debug, show_labels=show_labels, extra_args=args)\n\u001b[1;32m    297\u001b[0m \u001b[0;34m\u001b[0m\u001b[0m\n",
      "\u001b[0;32m~/Desktop/research/GillesPy2/gillespy2/solvers/stochkit/stochkit_solvers.py\u001b[0m in \u001b[0;36mrun\u001b[0;34m(cls, model, t, number_of_trajectories, increment, seed, stochkit_home, algorithm, job_id, extra_args, debug, profile, show_labels, **kwargs)\u001b[0m\n\u001b[1;32m    170\u001b[0m                     \u001b[0;32mwith\u001b[0m \u001b[0mopen\u001b[0m\u001b[0;34m(\u001b[0m\u001b[0mfile_name\u001b[0m\u001b[0;34m)\u001b[0m \u001b[0;32mas\u001b[0m \u001b[0mf\u001b[0m\u001b[0;34m:\u001b[0m\u001b[0;34m\u001b[0m\u001b[0;34m\u001b[0m\u001b[0m\n\u001b[1;32m    171\u001b[0m                         \u001b[0merror\u001b[0m \u001b[0;34m=\u001b[0m \u001b[0mf\u001b[0m\u001b[0;34m.\u001b[0m\u001b[0mread\u001b[0m\u001b[0;34m(\u001b[0m\u001b[0;34m)\u001b[0m\u001b[0;34m\u001b[0m\u001b[0;34m\u001b[0m\u001b[0m\n\u001b[0;32m--> 172\u001b[0;31m                     \u001b[0;32mraise\u001b[0m \u001b[0mSimulationError\u001b[0m\u001b[0;34m(\u001b[0m\u001b[0;34m\"Error running simulation: {0}\\n{1}\\n\"\u001b[0m\u001b[0;34m.\u001b[0m\u001b[0mformat\u001b[0m\u001b[0;34m(\u001b[0m\u001b[0mfile_name\u001b[0m\u001b[0;34m,\u001b[0m \u001b[0merror\u001b[0m\u001b[0;34m)\u001b[0m\u001b[0;34m)\u001b[0m\u001b[0;34m\u001b[0m\u001b[0;34m\u001b[0m\u001b[0m\n\u001b[0m\u001b[1;32m    173\u001b[0m \u001b[0;34m\u001b[0m\u001b[0m\n\u001b[1;32m    174\u001b[0m             \u001b[0;32mraise\u001b[0m \u001b[0mSimulationError\u001b[0m\u001b[0;34m(\u001b[0m\u001b[0;34m\"Error using solver.get_trajectories('{0}'): {1}\"\u001b[0m\u001b[0;34m.\u001b[0m\u001b[0mformat\u001b[0m\u001b[0;34m(\u001b[0m\u001b[0mout_dir\u001b[0m\u001b[0;34m,\u001b[0m \u001b[0me\u001b[0m\u001b[0;34m)\u001b[0m\u001b[0;34m)\u001b[0m\u001b[0;34m\u001b[0m\u001b[0;34m\u001b[0m\u001b[0m\n",
      "\u001b[0;31mSimulationError\u001b[0m: Error running simulation: /tmp/tmp79cns5fd/temp_input_2795d5b2-b8e3-4168-a6c2-846725d3b959_generated_code/compile-log.txt\ng++: error: /home/brian/StochKit/obj/Random.o: No such file or directory\ng++: error: /home/brian/StochKit/obj/Parameter.o: No such file or directory\ng++: error: /home/brian/StochKit/obj/CommandLineInterface.o: No such file or directory\ng++: error: /home/brian/StochKit/obj/StandardDriverUtilities.o: No such file or directory\ng++: error: /home/brian/StochKit/obj/StringCalculator.o: No such file or directory\nmake: *** [Makefile:127: ssa_direct_mixed_small_compiled] Error 1\n\n"
     ]
    }
   ],
   "source": [
    "for m in all_example_models:\n",
    "    model = eval(f\"example_models.{m}()\")\n",
    "    print(model.name)\n",
    "    for sol in ['StochKit','SSACSolver']:\n",
    "        print(f\"\\t{sol} {time_run_solver(sol,model)}\")\n"
   ]
  },
  {
   "cell_type": "code",
   "execution_count": 20,
   "metadata": {},
   "outputs": [
    {
     "data": {
      "text/plain": [
       "'Example'"
      ]
     },
     "execution_count": 20,
     "metadata": {},
     "output_type": "execute_result"
    }
   ],
   "source": [
    "model.name"
   ]
  },
  {
   "cell_type": "code",
   "execution_count": null,
   "metadata": {},
   "outputs": [],
   "source": []
  }
 ],
 "metadata": {
  "kernelspec": {
   "display_name": "Python 3",
   "language": "python",
   "name": "python3"
  },
  "language_info": {
   "codemirror_mode": {
    "name": "ipython",
    "version": 3
   },
   "file_extension": ".py",
   "mimetype": "text/x-python",
   "name": "python",
   "nbconvert_exporter": "python",
   "pygments_lexer": "ipython3",
   "version": "3.8.10"
  }
 },
 "nbformat": 4,
 "nbformat_minor": 4
}
