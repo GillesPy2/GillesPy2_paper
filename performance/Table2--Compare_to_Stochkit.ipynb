{
 "cells": [
  {
   "cell_type": "code",
   "execution_count": 1,
   "metadata": {},
   "outputs": [],
   "source": [
    "import os\n",
    "import sys\n",
    "sys.path.insert(1, os.path.abspath(os.path.join(os.getcwd(), '../../GillesPy2/')))\n",
    "sys.path.insert(1, os.path.abspath(os.path.join(os.getcwd(), '../../GillesPy2/test')))"
   ]
  },
  {
   "cell_type": "code",
   "execution_count": 2,
   "metadata": {},
   "outputs": [],
   "source": [
    "import gillespy2"
   ]
  },
  {
   "cell_type": "code",
   "execution_count": 3,
   "metadata": {},
   "outputs": [],
   "source": [
    "import example_models"
   ]
  },
  {
   "cell_type": "code",
   "execution_count": 4,
   "metadata": {},
   "outputs": [],
   "source": [
    "from matplotlib import pyplot as plt\n",
    "import time"
   ]
  },
  {
   "cell_type": "code",
   "execution_count": 5,
   "metadata": {},
   "outputs": [],
   "source": [
    "all_example_models = [\n",
    " 'create_decay',\n",
    " 'create_degradation',\n",
    " 'create_dimerization',\n",
    "#'create_lac_operon',\n",
    " 'create_michaelis_menten',\n",
    " 'create_multi_firing_event',\n",
    "#'create_oregonator',\n",
    " 'create_robust_model',\n",
    " 'create_schlogl',\n",
    " 'create_toggle_switch',\n",
    " 'create_trichloroethylene',\n",
    " 'create_tyson_2_state_oscillator',\n",
    " 'create_vilar_oscillator',\n",
    "]"
   ]
  },
  {
   "cell_type": "code",
   "execution_count": 6,
   "metadata": {},
   "outputs": [],
   "source": [
    "import gillespy2.solvers.stochkit"
   ]
  },
  {
   "cell_type": "code",
   "execution_count": 7,
   "metadata": {},
   "outputs": [],
   "source": [
    "all_solvers = {\n",
    "#'CLESolver': gillespy2.solvers.numpy.CLE_solver.CLESolver,\n",
    " 'NumPySSASolver': gillespy2.solvers.numpy.ssa_solver.NumPySSASolver,\n",
    " 'ODECSolver': gillespy2.solvers.cpp.ode_c_solver.ODECSolver,\n",
    " 'ODESolver': gillespy2.solvers.numpy.ode_solver.ODESolver,\n",
    " 'SSACSolver': gillespy2.solvers.cpp.ssa_c_solver.SSACSolver,\n",
    " 'TauHybridCSolver': gillespy2.solvers.cpp.tau_hybrid_c_solver.TauHybridCSolver,\n",
    " 'TauHybridSolver': gillespy2.solvers.numpy.tau_hybrid_solver.TauHybridSolver,\n",
    " 'TauLeapingCSolver': gillespy2.solvers.cpp.tau_leaping_c_solver.TauLeapingCSolver,\n",
    " 'TauLeapingSolver': gillespy2.solvers.numpy.tau_leaping_solver.TauLeapingSolver,\n",
    " 'StochKit' : gillespy2.solvers.stochkit.StochKitSolver\n",
    "}\n"
   ]
  },
  {
   "cell_type": "code",
   "execution_count": 8,
   "metadata": {},
   "outputs": [],
   "source": [
    "def time_run_solver(sname, model):\n",
    "    if sname == 'StochKit':\n",
    "        start_time = time.perf_counter()  \n",
    "        stochkit_sol = gillespy2.solvers.stochkit.StochKitSolver()\n",
    "        if model.tspan is None: raise Exception('model.tspan is None')\n",
    "        r = stochkit_sol.run(model=model, \n",
    "                             t = model.tspan[-1], \n",
    "                             incriment=(model.tspan[1]-model.tspan[0]), \n",
    "                             stochkit_home=os.environ['HOME']+'/StochKit/')\n",
    "        end_time= time.perf_counter()\n",
    "        return end_time - start_time\n",
    "    else:\n",
    "        start_time = time.perf_counter()  \n",
    "        sol = all_solvers[sname](model=model)\n",
    "        r = sol.run()\n",
    "        end_time= time.perf_counter()\n",
    "        return end_time - start_time\n"
   ]
  },
  {
   "cell_type": "code",
   "execution_count": 9,
   "metadata": {
    "scrolled": false
   },
   "outputs": [
    {
     "name": "stdout",
     "output_type": "stream",
     "text": [
      "create_decay: Example\n",
      "\tNumPySSASolver 0.0031288770042010583\n",
      "\tODECSolver 8.519688571002916\n",
      "\tODESolver 0.0056936529945232905\n",
      "\tSSACSolver 3.8938807470040047\n",
      "\tTauHybridCSolver 16.292038154999318\n",
      "\tTauHybridSolver 0.061061576001520734\n",
      "\tTauLeapingCSolver 8.015792942998814\n",
      "\tTauLeapingSolver 0.006050304997188505\n",
      "\tStochKit 0.04063100199709879\n",
      "create_degradation: Degradation\n",
      "\tNumPySSASolver 0.03287440699932631\n",
      "\tODECSolver 9.1306641150004\n",
      "\tODESolver 0.005030822001572233\n",
      "\tSSACSolver 4.160181184000976\n",
      "\tTauHybridCSolver 16.377411546003714\n",
      "\tTauHybridSolver 0.14515557599952444\n",
      "\tTauLeapingCSolver 7.488197006001428\n",
      "\tTauLeapingSolver 0.010992894000082742\n",
      "\tStochKit 0.07209070699900622\n",
      "create_dimerization: Dimerization\n",
      "\tNumPySSASolver 0.003381886999704875\n",
      "\tODECSolver 9.399030683998717\n",
      "\tODESolver 0.005173595003725495\n",
      "\tSSACSolver 3.8296824299977743\n",
      "\tTauHybridCSolver 13.464780447000521\n",
      "\tTauHybridSolver 0.12525107599503826\n",
      "\tTauLeapingCSolver 7.4939278999954695\n",
      "\tTauLeapingSolver 0.013261606996820774\n",
      "\tStochKit 0.0764430170020205\n",
      "create_michaelis_menten: Michaelis_Menten\n",
      "\tNumPySSASolver 0.06544995400327025\n",
      "\tODECSolver 9.393969406999531\n",
      "\tODESolver 0.01879200000257697\n",
      "\tSSACSolver 4.573786269000266\n",
      "\tTauHybridCSolver 17.010111654002685\n",
      "\tTauHybridSolver 0.7979084879989387\n",
      "\tTauLeapingCSolver 7.861772157004452\n",
      "\tTauLeapingSolver 0.07111019400326768\n",
      "\tStochKit 0.0743522490010946\n",
      "create_multi_firing_event: Example\n",
      "\tNumPySSASolver Could not run Model, SBML Features not supported by NumPySSASolver: Event\n",
      "\tODECSolver Could not run Model, SBML Features not supported by ODECSolver: Event\n",
      "\tODESolver Could not run Model, SBML Features not supported by ODESolver: Event\n",
      "\tSSACSolver Could not run Model, SBML Features not supported by SSACSolver: Event\n",
      "\tTauHybridCSolver 16.22132930400403\n",
      "\tTauHybridSolver 0.24651248000009218\n",
      "\tTauLeapingCSolver Could not run Model, SBML Features not supported by TauLeapingCSolver: Event\n",
      "\tTauLeapingSolver Could not run Model, SBML Features not supported by TauLeapingSolver: Event\n",
      "\tStochKit 0.058634255998185836\n",
      "create_robust_model: test1\n",
      "\tNumPySSASolver Could not run Model, SBML Features not supported by NumPySSASolver: FunctionDefinition, Event, RateRule, AssignmentRule\n",
      "\tODECSolver Could not run Model, SBML Features not supported by ODECSolver: FunctionDefinition, Event, RateRule, AssignmentRule\n",
      "\tODESolver Could not run Model, SBML Features not supported by ODESolver: FunctionDefinition, Event, RateRule, AssignmentRule\n",
      "\tSSACSolver Could not run Model, SBML Features not supported by SSACSolver: FunctionDefinition, Event, RateRule, AssignmentRule\n",
      "\tTauHybridCSolver Could not run Model, SBML Features not supported by TauHybridCSolver: FunctionDefinition, AssignmentRule\n",
      "\tTauHybridSolver 0.5862762620017747\n",
      "\tTauLeapingCSolver Could not run Model, SBML Features not supported by TauLeapingCSolver: FunctionDefinition, Event, RateRule, AssignmentRule\n",
      "\tTauLeapingSolver Could not run Model, SBML Features not supported by TauLeapingSolver: FunctionDefinition, Event, RateRule, AssignmentRule\n",
      "\tStochKit 10.516259280004306\n",
      "create_schlogl: Schlogl\n",
      "\tNumPySSASolver 0.01472037099301815\n",
      "\tODECSolver 10.227595345997543\n",
      "\tODESolver 0.008682407999003772\n",
      "\tSSACSolver 4.188693042000523\n",
      "\tTauHybridCSolver 17.24145967199729\n",
      "\tTauHybridSolver 0.14138025699503487\n",
      "\tTauLeapingCSolver 8.144112916001177\n",
      "\tTauLeapingSolver 0.014915945001121145\n",
      "\tStochKit 49.67717790399911\n",
      "create_toggle_switch: Toggle_Switch\n",
      "\tNumPySSASolver 0.08760000199981732\n",
      "\tODECSolver 6.867531321004208\n",
      "\tODESolver 0.00646644999505952\n",
      "\tSSACSolver 3.0856809210017673\n",
      "\tTauHybridCSolver 16.222586115000013\n",
      "\tTauHybridSolver 1.4574861169967335\n",
      "\tTauLeapingCSolver 6.800801946999854\n",
      "\tTauLeapingSolver 0.08857820800039917\n",
      "\tStochKit 7.623539820997394\n",
      "create_trichloroethylene: Trichloroethylene\n",
      "\tNumPySSASolver 0.04235467800026527\n",
      "\tODECSolver 8.39753267299966\n",
      "\tODESolver 0.02507545200205641\n",
      "\tSSACSolver 3.762520634998509\n",
      "\tTauHybridCSolver 16.57116710000264\n",
      "\tTauHybridSolver 0.43871445699915057\n",
      "\tTauLeapingCSolver 7.442240472002595\n",
      "\tTauLeapingSolver 0.04093430300417822\n",
      "\tStochKit 5.661978522002755\n",
      "create_tyson_2_state_oscillator: tyson-2-state\n",
      "\tNumPySSASolver 21.16136064699822\n",
      "\tODECSolver 7.066606073000003\n",
      "\tODESolver 0.007239698999910615\n",
      "\tSSACSolver 3.1640883660002146\n",
      "\tTauHybridCSolver 14.296665015994222\n",
      "\tTauHybridSolver 303.16624761300045\n",
      "\tTauLeapingCSolver 6.807377496996196\n",
      "\tTauLeapingSolver 22.169658151004114\n",
      "\tStochKit 6.984212771996681\n",
      "create_vilar_oscillator: VilarOscillator\n",
      "\tNumPySSASolver 15.29752690299938\n",
      "\tODECSolver 6.908503305996419\n"
     ]
    },
    {
     "name": "stderr",
     "output_type": "stream",
     "text": [
      "/usr/lib/python3/dist-packages/scipy/integrate/_ode.py:1347: UserWarning: lsoda: Excess work done on this call (perhaps wrong Dfun type).\n",
      "  warnings.warn('{:s}: {:s}'.format(self.__class__.__name__,\n"
     ]
    },
    {
     "name": "stdout",
     "output_type": "stream",
     "text": [
      "\tODESolver 0.7472336599967093\n",
      "\tSSACSolver 3.1670057860028464\n",
      "\tTauHybridCSolver 14.428928600005747\n",
      "\tTauHybridSolver 299.5039505989989\n",
      "\tTauLeapingCSolver 8.301799911998387\n",
      "\tTauLeapingSolver 31.7243390789954\n",
      "\tStochKit 0.22374386499723187\n"
     ]
    }
   ],
   "source": [
    "for m in all_example_models:\n",
    "    print(f\"{m}\",end=': ')\n",
    "    model = eval(f\"example_models.{m}()\")\n",
    "    print(model.name)\n",
    "    #if m in ['create_lac_operon','create_oregonator','create_decay','create_robust_model']: continue\n",
    "    for sol in all_solvers:  #['StochKit','SSACSolver','TauHybridCSolver']:\n",
    "        try:\n",
    "            print(f\"\\t{sol} {time_run_solver(sol,model)}\")\n",
    "        except Exception as e:\n",
    "            print(f\"\\t{sol} {e}\")\n",
    "            \n"
   ]
  },
  {
   "cell_type": "code",
   "execution_count": null,
   "metadata": {},
   "outputs": [],
   "source": []
  }
 ],
 "metadata": {
  "kernelspec": {
   "display_name": "Python 3",
   "language": "python",
   "name": "python3"
  },
  "language_info": {
   "codemirror_mode": {
    "name": "ipython",
    "version": 3
   },
   "file_extension": ".py",
   "mimetype": "text/x-python",
   "name": "python",
   "nbconvert_exporter": "python",
   "pygments_lexer": "ipython3",
   "version": "3.8.10"
  }
 },
 "nbformat": 4,
 "nbformat_minor": 4
}
